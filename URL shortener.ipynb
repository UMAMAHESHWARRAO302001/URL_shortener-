{
 "cells": [
  {
   "cell_type": "code",
   "execution_count": 1,
   "id": "8c95774a",
   "metadata": {},
   "outputs": [
    {
     "name": "stdout",
     "output_type": "stream",
     "text": [
      "Requirement already satisfied: pyshorteners in c:\\users\\dell\\anaconda3\\lib\\site-packages (1.0.1)\n",
      "Requirement already satisfied: requests in c:\\users\\dell\\anaconda3\\lib\\site-packages (from pyshorteners) (2.26.0)\n",
      "Requirement already satisfied: certifi>=2017.4.17 in c:\\users\\dell\\anaconda3\\lib\\site-packages (from requests->pyshorteners) (2021.10.8)\n",
      "Requirement already satisfied: urllib3<1.27,>=1.21.1 in c:\\users\\dell\\anaconda3\\lib\\site-packages (from requests->pyshorteners) (1.26.7)\n",
      "Requirement already satisfied: idna<4,>=2.5 in c:\\users\\dell\\anaconda3\\lib\\site-packages (from requests->pyshorteners) (3.2)\n",
      "Requirement already satisfied: charset-normalizer~=2.0.0 in c:\\users\\dell\\anaconda3\\lib\\site-packages (from requests->pyshorteners) (2.0.4)\n",
      "Note: you may need to restart the kernel to use updated packages.\n"
     ]
    }
   ],
   "source": [
    "pip install pyshorteners"
   ]
  },
  {
   "cell_type": "code",
   "execution_count": 2,
   "id": "866e7bbb",
   "metadata": {},
   "outputs": [],
   "source": [
    "import pyshorteners\n",
    "\n",
    "def shorten_url(url):\n",
    "    shortener = pyshorteners.Shortener()\n",
    "    shortened_url = shortener.tinyurl.short(url)\n",
    "    return shortened_url"
   ]
  },
  {
   "cell_type": "code",
   "execution_count": 4,
   "id": "303ee260",
   "metadata": {},
   "outputs": [
    {
     "name": "stdout",
     "output_type": "stream",
     "text": [
      "Short URL: https://tinyurl.com/29vzhbvl\n"
     ]
    }
   ],
   "source": [
    "long_url = \"https://www.youtube.com/results?search_query=codeclause+internship+review\"\n",
    "short_url = shorten_url(long_url)\n",
    "print(\"Short URL:\", short_url)"
   ]
  },
  {
   "cell_type": "code",
   "execution_count": null,
   "id": "62d4f9c3",
   "metadata": {},
   "outputs": [],
   "source": []
  }
 ],
 "metadata": {
  "kernelspec": {
   "display_name": "Python 3 (ipykernel)",
   "language": "python",
   "name": "python3"
  },
  "language_info": {
   "codemirror_mode": {
    "name": "ipython",
    "version": 3
   },
   "file_extension": ".py",
   "mimetype": "text/x-python",
   "name": "python",
   "nbconvert_exporter": "python",
   "pygments_lexer": "ipython3",
   "version": "3.9.7"
  }
 },
 "nbformat": 4,
 "nbformat_minor": 5
}
